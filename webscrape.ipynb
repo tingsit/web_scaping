{
 "cells": [
  {
   "cell_type": "code",
   "execution_count": 1,
   "metadata": {
    "tags": []
   },
   "outputs": [],
   "source": [
    "import lxml\n",
    "import pandas as pd\n",
    "import requests\n",
    "from bs4 import BeautifulSoup"
   ]
  },
  {
   "cell_type": "code",
   "execution_count": 2,
   "metadata": {
    "tags": []
   },
   "outputs": [],
   "source": [
    "HEADERS = ({'User-Agent':\n",
    "            'Mozilla/5.0 (Windows NT 10.0; Win64; x64) AppleWebKit/537.36 (KHTML, like Gecko) Chrome/94.0.4606.61 Safari/537.36',\n",
    "            'Accept-Language': 'en-US, en;q=0.5'})"
   ]
  },
  {
   "cell_type": "code",
   "execution_count": 3,
   "metadata": {
    "tags": []
   },
   "outputs": [],
   "source": [
    "url = 'https://amazon.ca/s?k=bicycle&ref=nb_sb_noss_1'\n",
    "html = requests.get(url, headers=HEADERS)"
   ]
  },
  {
   "cell_type": "code",
   "execution_count": 4,
   "metadata": {
    "tags": []
   },
   "outputs": [],
   "source": [
    "soup = BeautifulSoup(html.content, 'lxml')"
   ]
  },
  {
   "cell_type": "code",
   "execution_count": 60,
   "metadata": {
    "tags": []
   },
   "outputs": [],
   "source": [
    "# soup_obj.find_all(name='span', attrs={'class': 'a-offscreen'})\n",
    "# soup_obj.find_all(name='div', attrs={'class':'s-main-slot s-result-list s-search-results sg-row'})\n",
    "# result = soup.find_all(\n",
    "#     name='span', attrs={'data-component-type': 's-search-result'})\n",
    "result = soup.find_all(\n",
    "    name='div', attrs={'data-component-type': 's-search-result'})"
   ]
  },
  {
   "cell_type": "code",
   "execution_count": 76,
   "metadata": {
    "tags": []
   },
   "outputs": [],
   "source": [
    "test_item = result[6]\n",
    "# print(test_item)"
   ]
  },
  {
   "cell_type": "code",
   "execution_count": 64,
   "metadata": {
    "tags": []
   },
   "outputs": [
    {
     "data": {
      "text/plain": [
       "'$1,399.99'"
      ]
     },
     "execution_count": 64,
     "metadata": {},
     "output_type": "execute_result"
    }
   ],
   "source": [
    "test_item.find('span', {'class': 'a-offscreen'}).text"
   ]
  },
  {
   "cell_type": "code",
   "execution_count": 73,
   "metadata": {},
   "outputs": [
    {
     "ename": "AttributeError",
     "evalue": "'NoneType' object has no attribute 'text'",
     "output_type": "error",
     "traceback": [
      "\u001b[1;31m---------------------------------------------------------------------------\u001b[0m",
      "\u001b[1;31mAttributeError\u001b[0m                            Traceback (most recent call last)",
      "\u001b[1;32m<ipython-input-73-3704b8788425>\u001b[0m in \u001b[0;36m<module>\u001b[1;34m\u001b[0m\n\u001b[1;32m----> 1\u001b[1;33m \u001b[0mtest_item\u001b[0m\u001b[1;33m.\u001b[0m\u001b[0mfind\u001b[0m\u001b[1;33m(\u001b[0m\u001b[1;34m'span'\u001b[0m\u001b[1;33m,\u001b[0m \u001b[1;33m{\u001b[0m\u001b[1;34m'class'\u001b[0m\u001b[1;33m:\u001b[0m\u001b[1;34m'a-size-medium a-color-base a-text-normal'\u001b[0m\u001b[1;33m}\u001b[0m\u001b[1;33m)\u001b[0m\u001b[1;33m.\u001b[0m\u001b[0mtext\u001b[0m\u001b[1;33m\u001b[0m\u001b[1;33m\u001b[0m\u001b[0m\n\u001b[0m",
      "\u001b[1;31mAttributeError\u001b[0m: 'NoneType' object has no attribute 'text'"
     ]
    }
   ],
   "source": [
    "test_item.find('span', {'class':'a-size-medium a-color-base a-text-normal'}).text"
   ]
  },
  {
   "cell_type": "code",
   "execution_count": 27,
   "metadata": {},
   "outputs": [
    {
     "name": "stdout",
     "output_type": "stream",
     "text": [
      "None\n"
     ]
    }
   ],
   "source": [
    "print(asin)"
   ]
  },
  {
   "cell_type": "code",
   "execution_count": 199,
   "metadata": {
    "execution": {
     "iopub.execute_input": "2021-10-04T02:04:37.458289Z",
     "iopub.status.busy": "2021-10-04T02:04:37.458289Z",
     "iopub.status.idle": "2021-10-04T02:04:37.470257Z",
     "shell.execute_reply": "2021-10-04T02:04:37.470257Z",
     "shell.execute_reply.started": "2021-10-04T02:04:37.458289Z"
    }
   },
   "outputs": [
    {
     "data": {
      "text/plain": [
       "'/gp/slredirect/picassoRedirect.html/ref=pa_sp_btf_aps_sr_pg1_1?ie=UTF8&adId=A028620121VU9NI9XQV3R&url=%2FHuffy-Marker-Womens-Suspension-Mountain%2Fdp%2FB08RZBKFR9%2Fref%3Dsr_1_22_sspa%3Fdchild%3D1%26keywords%3Dbicycle%26pldnSite%3D1%26qid%3D1633299002%26sr%3D8-22-spons%26psc%3D1&qualifier=1633299002&id=7974073065157620&widgetName=sp_btf'"
      ]
     },
     "execution_count": 199,
     "metadata": {},
     "output_type": "execute_result"
    }
   ],
   "source": [
    "atag = test_item.h2.a\n",
    "atag.get('href')\n",
    "# url = 'https://www.amazon.com' + "
   ]
  },
  {
   "cell_type": "code",
   "execution_count": 77,
   "metadata": {
    "tags": []
   },
   "outputs": [],
   "source": [
    "def extract_record(item):\n",
    "\n",
    "    try:\n",
    "        price = item.find('span', {'class': 'a-offscreen'}).text\n",
    "    except AttributeError:\n",
    "        return None\n",
    "\n",
    "    name = item.find(\n",
    "        'span', {'class': 'a-size-medium a-color-base a-text-normal'}).text.strip()\n",
    "\n",
    "    record = (price, name)\n",
    "\n",
    "    return record"
   ]
  },
  {
   "cell_type": "code",
   "execution_count": 78,
   "metadata": {
    "tags": []
   },
   "outputs": [
    {
     "ename": "AttributeError",
     "evalue": "'NoneType' object has no attribute 'text'",
     "output_type": "error",
     "traceback": [
      "\u001b[1;31m---------------------------------------------------------------------------\u001b[0m",
      "\u001b[1;31mAttributeError\u001b[0m                            Traceback (most recent call last)",
      "\u001b[1;32m<ipython-input-78-14cdf46d6d0d>\u001b[0m in \u001b[0;36m<module>\u001b[1;34m\u001b[0m\n\u001b[0;32m      2\u001b[0m \u001b[1;33m\u001b[0m\u001b[0m\n\u001b[0;32m      3\u001b[0m \u001b[1;32mfor\u001b[0m \u001b[0mentry\u001b[0m \u001b[1;32min\u001b[0m \u001b[0mresult\u001b[0m\u001b[1;33m:\u001b[0m\u001b[1;33m\u001b[0m\u001b[1;33m\u001b[0m\u001b[0m\n\u001b[1;32m----> 4\u001b[1;33m     \u001b[0msearch_item\u001b[0m \u001b[1;33m=\u001b[0m \u001b[0mextract_record\u001b[0m\u001b[1;33m(\u001b[0m\u001b[0mentry\u001b[0m\u001b[1;33m)\u001b[0m\u001b[1;33m\u001b[0m\u001b[1;33m\u001b[0m\u001b[0m\n\u001b[0m\u001b[0;32m      5\u001b[0m     \u001b[1;32mif\u001b[0m \u001b[0msearch_item\u001b[0m\u001b[1;33m:\u001b[0m\u001b[1;33m\u001b[0m\u001b[1;33m\u001b[0m\u001b[0m\n\u001b[0;32m      6\u001b[0m         \u001b[0msearch_result\u001b[0m\u001b[1;33m.\u001b[0m\u001b[0mappend\u001b[0m\u001b[1;33m(\u001b[0m\u001b[0msearch_item\u001b[0m\u001b[1;33m)\u001b[0m\u001b[1;33m\u001b[0m\u001b[1;33m\u001b[0m\u001b[0m\n",
      "\u001b[1;32m<ipython-input-77-17f6644418e4>\u001b[0m in \u001b[0;36mextract_record\u001b[1;34m(item)\u001b[0m\n\u001b[0;32m      6\u001b[0m         \u001b[1;32mreturn\u001b[0m \u001b[1;32mNone\u001b[0m\u001b[1;33m\u001b[0m\u001b[1;33m\u001b[0m\u001b[0m\n\u001b[0;32m      7\u001b[0m \u001b[1;33m\u001b[0m\u001b[0m\n\u001b[1;32m----> 8\u001b[1;33m     name = item.find(\n\u001b[0m\u001b[0;32m      9\u001b[0m         'span', {'class': 'a-size-medium a-color-base a-text-normal'}).text.strip()\n\u001b[0;32m     10\u001b[0m \u001b[1;33m\u001b[0m\u001b[0m\n",
      "\u001b[1;31mAttributeError\u001b[0m: 'NoneType' object has no attribute 'text'"
     ]
    }
   ],
   "source": [
    "search_result = []\n",
    "\n",
    "for entry in result:\n",
    "    search_item = extract_record(entry)\n",
    "    if search_item:\n",
    "        search_result.append(search_item)"
   ]
  },
  {
   "cell_type": "code",
   "execution_count": 176,
   "metadata": {
    "execution": {
     "iopub.execute_input": "2021-10-04T01:32:23.544183Z",
     "iopub.status.busy": "2021-10-04T01:32:23.544183Z",
     "iopub.status.idle": "2021-10-04T01:32:23.561138Z",
     "shell.execute_reply": "2021-10-04T01:32:23.561138Z",
     "shell.execute_reply.started": "2021-10-04T01:32:23.544183Z"
    }
   },
   "outputs": [],
   "source": [
    "df = pd.DataFrame(search_result, columns=['price', 'name'])\n",
    "df['price'] = df['price'].str[1:]\n",
    "df['price'] = df['price'].astype(float)"
   ]
  },
  {
   "cell_type": "code",
   "execution_count": 178,
   "metadata": {
    "execution": {
     "iopub.execute_input": "2021-10-04T01:32:28.215002Z",
     "iopub.status.busy": "2021-10-04T01:32:28.215002Z",
     "iopub.status.idle": "2021-10-04T01:32:28.224942Z",
     "shell.execute_reply": "2021-10-04T01:32:28.224942Z",
     "shell.execute_reply.started": "2021-10-04T01:32:28.215002Z"
    }
   },
   "outputs": [
    {
     "data": {
      "text/html": [
       "<div>\n",
       "<style scoped>\n",
       "    .dataframe tbody tr th:only-of-type {\n",
       "        vertical-align: middle;\n",
       "    }\n",
       "\n",
       "    .dataframe tbody tr th {\n",
       "        vertical-align: top;\n",
       "    }\n",
       "\n",
       "    .dataframe thead th {\n",
       "        text-align: right;\n",
       "    }\n",
       "</style>\n",
       "<table border=\"1\" class=\"dataframe\">\n",
       "  <thead>\n",
       "    <tr style=\"text-align: right;\">\n",
       "      <th></th>\n",
       "      <th>price</th>\n",
       "      <th>name</th>\n",
       "    </tr>\n",
       "  </thead>\n",
       "  <tbody>\n",
       "    <tr>\n",
       "      <th>0</th>\n",
       "      <td>139.99</td>\n",
       "      <td>JOYSTAR Pluto Kids Bike with Training Wheels f...</td>\n",
       "    </tr>\n",
       "    <tr>\n",
       "      <th>1</th>\n",
       "      <td>209.99</td>\n",
       "      <td>Lanos Exercise Bike, Stationary Bike for Indoo...</td>\n",
       "    </tr>\n",
       "    <tr>\n",
       "      <th>2</th>\n",
       "      <td>299.99</td>\n",
       "      <td>AVASTA 26\" Aluminum Mountain Bike for Adult &amp; ...</td>\n",
       "    </tr>\n",
       "    <tr>\n",
       "      <th>3</th>\n",
       "      <td>299.99</td>\n",
       "      <td>Hiland Mountain Bike,Shimano 21 Speeds Drivetr...</td>\n",
       "    </tr>\n",
       "    <tr>\n",
       "      <th>4</th>\n",
       "      <td>299.99</td>\n",
       "      <td>Huffy Hardtail Mountain Trail Bike 24 inch, 26...</td>\n",
       "    </tr>\n",
       "  </tbody>\n",
       "</table>\n",
       "</div>"
      ],
      "text/plain": [
       "    price                                               name\n",
       "0  139.99  JOYSTAR Pluto Kids Bike with Training Wheels f...\n",
       "1  209.99  Lanos Exercise Bike, Stationary Bike for Indoo...\n",
       "2  299.99  AVASTA 26\" Aluminum Mountain Bike for Adult & ...\n",
       "3  299.99  Hiland Mountain Bike,Shimano 21 Speeds Drivetr...\n",
       "4  299.99  Huffy Hardtail Mountain Trail Bike 24 inch, 26..."
      ]
     },
     "execution_count": 178,
     "metadata": {},
     "output_type": "execute_result"
    }
   ],
   "source": [
    "df.head()"
   ]
  }
 ],
 "metadata": {
  "kernelspec": {
   "display_name": "Python 3",
   "language": "python",
   "name": "python3"
  },
  "language_info": {
   "codemirror_mode": {
    "name": "ipython",
    "version": 3
   },
   "file_extension": ".py",
   "mimetype": "text/x-python",
   "name": "python",
   "nbconvert_exporter": "python",
   "pygments_lexer": "ipython3",
   "version": "3.8.8"
  }
 },
 "nbformat": 4,
 "nbformat_minor": 4
}
